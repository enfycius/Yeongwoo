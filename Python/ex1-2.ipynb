{
 "cells": [
  {
   "attachments": {},
   "cell_type": "markdown",
   "metadata": {},
   "source": [
    "# Playbot\n",
    "\n",
    "## User-defined functions (#17)"
   ]
  },
  {
   "attachments": {},
   "cell_type": "markdown",
   "metadata": {},
   "source": [
    "### Written by Seo yeongwoo"
   ]
  },
  {
   "cell_type": "code",
   "execution_count": null,
   "metadata": {},
   "outputs": [],
   "source": [
    "def turn_right():\n",
    "    repeat(\"turn_left()\", 3)\n",
    "\n",
    "repeat(\"turn_left()\", 2)\n",
    "move()\n",
    "turn_right()\n",
    "def march(a):\n",
    "    repeat(\"move()\", a)\n",
    "march(2)\n",
    "turn_right()\n",
    "march(2)\n",
    "set_color(\"red\")"
   ]
  }
 ],
 "metadata": {
  "language_info": {
   "name": "python"
  },
  "orig_nbformat": 4
 },
 "nbformat": 4,
 "nbformat_minor": 2
}
